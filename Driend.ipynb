{
 "cells": [
  {
   "cell_type": "code",
   "execution_count": null,
   "metadata": {},
   "outputs": [],
   "source": [
    "# Exercise 1\n",
    "user_input = input(\"Enter your value: \")\n",
    "val = int(user_input)\n",
    "\n",
    "for num in range(1, val + 1):\n",
    "    i = 1\n",
    "    for i in range(2, num):\n",
    "        if(num % i == 0):\n",
    "            i = num\n",
    "            break;\n",
    "    if(i != num):\n",
    "        print(num, end=\" \")"
   ]
  },
  {
   "cell_type": "code",
   "execution_count": 3,
   "metadata": {},
   "outputs": [
    {
     "name": "stdout",
     "output_type": "stream",
     "text": [
      "Enter your value: 111\n",
      "7\n"
     ]
    }
   ],
   "source": [
    "# Exercise 2\n",
    "user_input = input(\"Enter your value: \")\n",
    "result = int(user_input,2)\n",
    "print(result)"
   ]
  },
  {
   "cell_type": "code",
   "execution_count": null,
   "metadata": {},
   "outputs": [],
   "source": []
  }
 ],
 "metadata": {
  "kernelspec": {
   "display_name": "Python 3",
   "language": "python",
   "name": "python3"
  },
  "language_info": {
   "codemirror_mode": {
    "name": "ipython",
    "version": 3
   },
   "file_extension": ".py",
   "mimetype": "text/x-python",
   "name": "python",
   "nbconvert_exporter": "python",
   "pygments_lexer": "ipython3",
   "version": "3.7.3"
  }
 },
 "nbformat": 4,
 "nbformat_minor": 2
}
